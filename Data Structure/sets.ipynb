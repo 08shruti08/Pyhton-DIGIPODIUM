{
 "cells": [
  {
   "cell_type": "markdown",
   "id": "e216c4e0",
   "metadata": {},
   "source": [
    "- set creation\n",
    "- methods and operations\n",
    "   - union\n",
    "   - intersection\n",
    "   - symmetric difference\n",
    "   - issubset\n",
    "   - issuperset"
   ]
  },
  {
   "cell_type": "markdown",
   "id": "0659edb6",
   "metadata": {},
   "source": [
    "## set creation"
   ]
  },
  {
   "cell_type": "code",
   "execution_count": 1,
   "id": "08fe1f41",
   "metadata": {},
   "outputs": [
    {
     "name": "stdout",
     "output_type": "stream",
     "text": [
      "{2, 3, 4, 5, 6, 7, 8, 9, 13, 25}\n"
     ]
    }
   ],
   "source": [
    "a = {2,6,4,3,7,9,8,25,13,2,4,5,7}\n",
    "print(a)"
   ]
  },
  {
   "cell_type": "code",
   "execution_count": null,
   "id": "baa561fa",
   "metadata": {},
   "outputs": [
    {
     "name": "stdout",
     "output_type": "stream",
     "text": [
      "2\n",
      "3\n",
      "4\n",
      "5\n",
      "6\n",
      "7\n",
      "8\n",
      "9\n",
      "13\n",
      "25\n"
     ]
    }
   ],
   "source": [
    "#if set runs as loops\n",
    "\n",
    "a = {2,6,4,3,7,9,8,25,13,2,4,5,7}\n",
    "for x in a:\n",
    "    print(x)"
   ]
  },
  {
   "cell_type": "code",
   "execution_count": null,
   "id": "f94b9902",
   "metadata": {},
   "outputs": [
    {
     "name": "stdout",
     "output_type": "stream",
     "text": [
      "{'h', 'e', 'o', 'l'}\n"
     ]
    }
   ],
   "source": [
    "#\n",
    "\n",
    "x = set(\"hello\")\n",
    "print(x)"
   ]
  },
  {
   "cell_type": "code",
   "execution_count": 5,
   "id": "c83f7a6d",
   "metadata": {},
   "outputs": [
    {
     "name": "stdout",
     "output_type": "stream",
     "text": [
      "{1, 2, 3, 4, 5, 6, 7}\n"
     ]
    }
   ],
   "source": [
    "x = set([1,2,3,4,5,6,7])\n",
    "print(x)"
   ]
  },
  {
   "cell_type": "code",
   "execution_count": null,
   "id": "6cde26d1",
   "metadata": {},
   "outputs": [
    {
     "name": "stdout",
     "output_type": "stream",
     "text": [
      "{1, 2, 3, 4, 5, 6, 7, 8, 9, 10, 11, 12, 13, 14}\n"
     ]
    }
   ],
   "source": [
    "#Giving Range of numbers in a set\n",
    "\n",
    "x = set(range(1,15))\n",
    "print(x)"
   ]
  },
  {
   "cell_type": "markdown",
   "id": "c0cd03d8",
   "metadata": {},
   "source": [
    "## Methods and Operations"
   ]
  },
  {
   "cell_type": "code",
   "execution_count": 8,
   "id": "c79f5129",
   "metadata": {},
   "outputs": [
    {
     "name": "stdout",
     "output_type": "stream",
     "text": [
      "set()\n"
     ]
    }
   ],
   "source": [
    "lst = set()\n",
    "print(lst)"
   ]
  },
  {
   "cell_type": "code",
   "execution_count": null,
   "id": "8e3161b1",
   "metadata": {},
   "outputs": [
    {
     "name": "stdout",
     "output_type": "stream",
     "text": [
      "{2, 4, 5, 6, 12}\n"
     ]
    }
   ],
   "source": [
    "#to Add items in the set\n",
    "\n",
    "lst.add(4)\n",
    "lst.add(6)\n",
    "lst.add(2)\n",
    "lst.add(5)\n",
    "lst.add(12)\n",
    "\n",
    "print(lst)"
   ]
  },
  {
   "cell_type": "code",
   "execution_count": null,
   "id": "4e3f755d",
   "metadata": {},
   "outputs": [
    {
     "name": "stdout",
     "output_type": "stream",
     "text": [
      "{2, 4, 5}\n"
     ]
    }
   ],
   "source": [
    "#to remove items from the set\n",
    "\n",
    "lst.pop()\n",
    "print(lst)"
   ]
  },
  {
   "cell_type": "code",
   "execution_count": 33,
   "id": "ab39840f",
   "metadata": {},
   "outputs": [
    {
     "name": "stdout",
     "output_type": "stream",
     "text": [
      "{2, 4, 5, 12}\n"
     ]
    }
   ],
   "source": [
    "lst.discard(6)\n",
    "print(lst)"
   ]
  },
  {
   "cell_type": "code",
   "execution_count": 35,
   "id": "94f0b7f1",
   "metadata": {},
   "outputs": [
    {
     "name": "stdout",
     "output_type": "stream",
     "text": [
      "set()\n"
     ]
    }
   ],
   "source": [
    "lst.clear()\n",
    "print(lst)"
   ]
  },
  {
   "cell_type": "code",
   "execution_count": 23,
   "id": "cedbf7da",
   "metadata": {},
   "outputs": [
    {
     "name": "stdout",
     "output_type": "stream",
     "text": [
      "{1, 2, 3, 4, 5, 6}\n",
      "{4, 5, 6, 7, 8, 9}\n"
     ]
    }
   ],
   "source": [
    "a= {1,2,3,4,5,6}\n",
    "b= {4,5,6,7,8,9}\n",
    "print(a)\n",
    "print(b)"
   ]
  },
  {
   "cell_type": "code",
   "execution_count": 30,
   "id": "022e12cd",
   "metadata": {},
   "outputs": [
    {
     "name": "stdout",
     "output_type": "stream",
     "text": [
      "{1, 2, 3, 4, 5, 6, 7, 8, 9}\n",
      "{1, 2, 3, 4, 5, 6, 7, 8, 9}\n"
     ]
    }
   ],
   "source": [
    "# Union Operator\n",
    "\n",
    "print(a.union(b))\n",
    "#or\n",
    "print (a|b)"
   ]
  },
  {
   "cell_type": "code",
   "execution_count": null,
   "id": "5c43b4b1",
   "metadata": {},
   "outputs": [
    {
     "name": "stdout",
     "output_type": "stream",
     "text": [
      "{4, 5, 6}\n",
      "{4, 5, 6}\n"
     ]
    }
   ],
   "source": [
    "# Intersection Operator\n",
    "\n",
    "print(a.intersection(b))\n",
    "#or\n",
    "print(a&b)"
   ]
  },
  {
   "cell_type": "code",
   "execution_count": null,
   "id": "4d9443f5",
   "metadata": {},
   "outputs": [
    {
     "name": "stdout",
     "output_type": "stream",
     "text": [
      "{1, 2, 3}\n",
      "{1, 2, 3}\n",
      "{8, 9, 7}\n"
     ]
    }
   ],
   "source": [
    "#Difference Operator\n",
    "\n",
    "print(a.difference(b))\n",
    "print(a-b)\n",
    "#or\n",
    "print(b-a)"
   ]
  },
  {
   "cell_type": "code",
   "execution_count": null,
   "id": "5d0aa021",
   "metadata": {},
   "outputs": [
    {
     "name": "stdout",
     "output_type": "stream",
     "text": [
      "{1, 2, 3, 7, 8, 9}\n",
      "{1, 2, 3, 7, 8, 9}\n"
     ]
    }
   ],
   "source": [
    "# Symmetric difference operator\n",
    "print(a.symmetric_difference(b))\n",
    "#or\n",
    "print(a^b)"
   ]
  },
  {
   "cell_type": "code",
   "execution_count": 42,
   "id": "ddfef8d3",
   "metadata": {},
   "outputs": [],
   "source": [
    "x = {1,2,3,4,5,6}\n",
    "y= {1,2,3}"
   ]
  },
  {
   "cell_type": "code",
   "execution_count": 43,
   "id": "517e1a15",
   "metadata": {},
   "outputs": [
    {
     "name": "stdout",
     "output_type": "stream",
     "text": [
      "True\n"
     ]
    }
   ],
   "source": [
    "print(x.issuperset(y))"
   ]
  },
  {
   "cell_type": "code",
   "execution_count": 44,
   "id": "5c2cc215",
   "metadata": {},
   "outputs": [
    {
     "name": "stdout",
     "output_type": "stream",
     "text": [
      "True\n"
     ]
    }
   ],
   "source": [
    "print(y.issubset(x))"
   ]
  }
 ],
 "metadata": {
  "kernelspec": {
   "display_name": "base",
   "language": "python",
   "name": "python3"
  },
  "language_info": {
   "codemirror_mode": {
    "name": "ipython",
    "version": 3
   },
   "file_extension": ".py",
   "mimetype": "text/x-python",
   "name": "python",
   "nbconvert_exporter": "python",
   "pygments_lexer": "ipython3",
   "version": "3.12.9"
  }
 },
 "nbformat": 4,
 "nbformat_minor": 5
}
