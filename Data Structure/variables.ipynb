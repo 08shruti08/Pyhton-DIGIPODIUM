{
 "cells": [
  {
   "cell_type": "markdown",
   "id": "a7340ec3",
   "metadata": {},
   "source": [
    "- point1\n",
    "    - subpoint1\n",
    "    - subpoint2\n",
    "- point2\n",
    "- point3\n"
   ]
  },
  {
   "cell_type": "code",
   "execution_count": null,
   "id": "bdc9660b",
   "metadata": {},
   "outputs": [],
   "source": []
  },
  {
   "cell_type": "markdown",
   "id": "75821d70",
   "metadata": {},
   "source": [
    "# Heading"
   ]
  },
  {
   "cell_type": "markdown",
   "id": "47bb73f2",
   "metadata": {},
   "source": [
    "Heading"
   ]
  },
  {
   "cell_type": "code",
   "execution_count": 1,
   "id": "0e1e4c71",
   "metadata": {},
   "outputs": [
    {
     "name": "stdout",
     "output_type": "stream",
     "text": [
      "10\n"
     ]
    }
   ],
   "source": [
    "a=10\n",
    "print(a)\n"
   ]
  }
 ],
 "metadata": {
  "kernelspec": {
   "display_name": "base",
   "language": "python",
   "name": "python3"
  },
  "language_info": {
   "codemirror_mode": {
    "name": "ipython",
    "version": 3
   },
   "file_extension": ".py",
   "mimetype": "text/x-python",
   "name": "python",
   "nbconvert_exporter": "python",
   "pygments_lexer": "ipython3",
   "version": "3.12.9"
  }
 },
 "nbformat": 4,
 "nbformat_minor": 5
}
