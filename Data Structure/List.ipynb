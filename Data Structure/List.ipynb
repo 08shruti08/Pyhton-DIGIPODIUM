{
 "cells": [
  {
   "cell_type": "markdown",
   "id": "acc4caff",
   "metadata": {},
   "source": [
    "# Data Structures"
   ]
  },
  {
   "cell_type": "markdown",
   "id": "1dfc6b05",
   "metadata": {},
   "source": [
    "### 1. List"
   ]
  },
  {
   "cell_type": "code",
   "execution_count": null,
   "id": "1283fac1",
   "metadata": {},
   "outputs": [
    {
     "name": "stdout",
     "output_type": "stream",
     "text": [
      "['google', 'swiggy', 'album', 'ola', 'whatsup', 'facebook', 'instagram']\n",
      "facebook\n",
      "swiggy\n"
     ]
    }
   ],
   "source": [
    "apps = ['google', 'swiggy', 'album', 'ola', 'whatsup', 'facebook', 'instagram']\n",
    "print(apps)\n",
    "\n",
    "print(apps[5]) #To print the exact value inside  apps variable\n",
    "\n",
    "print(apps[-6]) # Reverse Indexing"
   ]
  },
  {
   "cell_type": "markdown",
   "id": "7ff35df9",
   "metadata": {},
   "source": [
    "## Slicing"
   ]
  },
  {
   "cell_type": "code",
   "execution_count": 4,
   "id": "2461a375",
   "metadata": {},
   "outputs": [
    {
     "name": "stdout",
     "output_type": "stream",
     "text": [
      "[4, 8, 10, 12]\n",
      "[4, 10]\n"
     ]
    }
   ],
   "source": [
    "a = [2, 4, 8,10, 12]\n",
    "\n",
    "print(a[1:5])\n",
    "\n",
    "print(a[1:6:2])"
   ]
  },
  {
   "cell_type": "code",
   "execution_count": null,
   "id": "504da3f0",
   "metadata": {},
   "outputs": [
    {
     "name": "stdout",
     "output_type": "stream",
     "text": [
      "['google', 'swiggy', 'album', 'ola', 'whatsup']\n",
      "['google', 'album', 'whatsup', 'instagram']\n",
      "['whatsup', 'facebook', 'instagram']\n",
      "['google', 'swiggy']\n",
      "['google', 'swiggy', 'album', 'ola', 'whatsup', 'facebook', 'instagram']\n",
      "['google', 'album', 'whatsup', 'instagram']\n"
     ]
    }
   ],
   "source": [
    "print(apps[0:5]) # it will print from indexing 0 to 4\n",
    "\n",
    "print(apps[0:8:2]) #it will print indexing from 0 to 7 with a gap of 1\n",
    "\n",
    "print(apps[4:]) # it will start from indexing 4 to the end (colon in the end)\n",
    "\n",
    "print(apps[:2]) # it will start from beginning till indexing 2( colon in the start)\n",
    "\n",
    "print(apps[:]) # it will print all(only colon)\n",
    "\n",
    "print(apps[::2]) # it will print all with the gap of 1"
   ]
  },
  {
   "cell_type": "markdown",
   "id": "9d137ea3",
   "metadata": {},
   "source": [
    "# List Methods\n",
    "\n",
    "- appends() - to add an element at the end if the list\n",
    "- insert() - to add an element at any specific position\n",
    "- pop() - to remove an element using index position\n",
    "- remove() - to delete an element using the name of the element\n",
    "- copy() - to make a copy of list\n",
    "- sort() - to arrange the element of the list in specific order\n",
    "- clear() - to delete all items of list but not a list\n",
    "- extend() - to combine items of two list in one list"
   ]
  },
  {
   "cell_type": "markdown",
   "id": "76794ea5",
   "metadata": {},
   "source": []
  },
  {
   "cell_type": "code",
   "execution_count": 13,
   "id": "a7165b7b",
   "metadata": {},
   "outputs": [
    {
     "name": "stdout",
     "output_type": "stream",
     "text": [
      "['google', 'swiggy', 'album', 'ola', 'whatsup', 'facebook', 'instagram', 'canva', 'canva', 'canva', 'canva']\n"
     ]
    }
   ],
   "source": [
    "apps.append('canva')\n",
    "print(apps)"
   ]
  },
  {
   "cell_type": "code",
   "execution_count": 14,
   "id": "8981591c",
   "metadata": {},
   "outputs": [
    {
     "name": "stdout",
     "output_type": "stream",
     "text": [
      "['google', 'swiggy', 'album', 'ola', 'whatsup', 'facebook', 'instagram', 'canva', 'canva', 'canva', 'canva', 'canva']\n"
     ]
    }
   ],
   "source": [
    "apps.append('canva')\n",
    "print(apps)"
   ]
  },
  {
   "cell_type": "code",
   "execution_count": 16,
   "id": "67e288b9",
   "metadata": {},
   "outputs": [
    {
     "name": "stdout",
     "output_type": "stream",
     "text": [
      "['google', 'swiggy', 'canva', 'canva', 'album', 'ola', 'whatsup', 'facebook', 'instagram', 'canva', 'canva', 'canva', 'canva', 'canva']\n"
     ]
    }
   ],
   "source": [
    "apps.insert(2, 'canva')\n",
    "print(apps)"
   ]
  },
  {
   "cell_type": "code",
   "execution_count": 18,
   "id": "e08fbcf7",
   "metadata": {},
   "outputs": [
    {
     "name": "stdout",
     "output_type": "stream",
     "text": [
      "['google', 'swiggy', 'canva', 'album', 'ola', 'whatsup', 'facebook', 'instagram', 'canva', 'canva', 'canva', 'canva', 'canva']\n"
     ]
    }
   ],
   "source": [
    "apps.remove('canva')\n",
    "print(apps)"
   ]
  },
  {
   "cell_type": "code",
   "execution_count": 20,
   "id": "342ced2e",
   "metadata": {},
   "outputs": [
    {
     "name": "stdout",
     "output_type": "stream",
     "text": [
      "['google', 'swiggy', 'canva', 'album', 'whatsup', 'facebook', 'instagram', 'canva', 'canva', 'canva', 'canva', 'canva']\n"
     ]
    }
   ],
   "source": [
    "apps.pop(4)\n",
    "print(apps)"
   ]
  },
  {
   "cell_type": "code",
   "execution_count": 23,
   "id": "2b1679bc",
   "metadata": {},
   "outputs": [
    {
     "name": "stdout",
     "output_type": "stream",
     "text": [
      "['google', 'swiggy', 'canva', 'album', 'whatsup', 'instagram', 'canva', 'canva', 'canva', 'canva', 'canva']\n"
     ]
    }
   ],
   "source": [
    "apps.pop(5)\n",
    "print(apps)"
   ]
  },
  {
   "cell_type": "code",
   "execution_count": 24,
   "id": "109c741c",
   "metadata": {},
   "outputs": [
    {
     "ename": "TypeError",
     "evalue": "list.copy() takes no arguments (1 given)",
     "output_type": "error",
     "traceback": [
      "\u001b[31m---------------------------------------------------------------------------\u001b[39m",
      "\u001b[31mTypeError\u001b[39m                                 Traceback (most recent call last)",
      "\u001b[36mCell\u001b[39m\u001b[36m \u001b[39m\u001b[32mIn[24]\u001b[39m\u001b[32m, line 1\u001b[39m\n\u001b[32m----> \u001b[39m\u001b[32m1\u001b[39m \u001b[43mapps\u001b[49m\u001b[43m.\u001b[49m\u001b[43mcopy\u001b[49m\u001b[43m(\u001b[49m\u001b[33;43m'\u001b[39;49m\u001b[33;43malbum\u001b[39;49m\u001b[33;43m'\u001b[39;49m\u001b[43m)\u001b[49m\n\u001b[32m      2\u001b[39m \u001b[38;5;28mprint\u001b[39m(apps)\n",
      "\u001b[31mTypeError\u001b[39m: list.copy() takes no arguments (1 given)"
     ]
    }
   ],
   "source": [
    "apps.copy('album')\n",
    "print(apps)"
   ]
  },
  {
   "cell_type": "markdown",
   "id": "2f2c6277",
   "metadata": {},
   "source": [
    "## Example of List"
   ]
  },
  {
   "cell_type": "code",
   "execution_count": null,
   "id": "9eb624d4",
   "metadata": {},
   "outputs": [
    {
     "name": "stdout",
     "output_type": "stream",
     "text": [
      "['Halva', 'Jalebi', 'Rasmalai', 'Kulfi', 'Gulab Jamun']\n"
     ]
    }
   ],
   "source": [
    "mithai = ['Halva', 'Jalebi', 'Rasmalai', 'Kulfi', 'Gulab Jamun'] # creating a list of mithai items\n",
    "print(mithai)"
   ]
  },
  {
   "cell_type": "code",
   "execution_count": null,
   "id": "a379c749",
   "metadata": {},
   "outputs": [
    {
     "data": {
      "text/plain": [
       "['Halva', 'Jalebi', 'Rasmalai', 'Kulfi', 'Gulab Jamun']"
      ]
     },
     "execution_count": 6,
     "metadata": {},
     "output_type": "execute_result"
    }
   ],
   "source": [
    "mithai[0:5] # Slicing of mithai's\n",
    "# [0,1,2,3,4] : Indexing of mithai's"
   ]
  },
  {
   "cell_type": "code",
   "execution_count": null,
   "id": "ccdf208f",
   "metadata": {},
   "outputs": [
    {
     "name": "stdout",
     "output_type": "stream",
     "text": [
      "['Halva', 'Jalebi', 'Rasmalai', 'Kulfi', 'Gulab Jamun', 'Peda', 'Peda', 'Peda']\n"
     ]
    }
   ],
   "source": [
    "mithai.append('Peda') #it will add peda at the last of the mithai list using append\n",
    "print(mithai)"
   ]
  },
  {
   "cell_type": "code",
   "execution_count": null,
   "id": "744c9a4d",
   "metadata": {},
   "outputs": [
    {
     "name": "stdout",
     "output_type": "stream",
     "text": [
      "['Halva', 'Raj bhog', 'Jalebi', 'Rasmalai', 'Kulfi', 'Gulab Jamun', 'Peda', 'Peda', 'Peda']\n"
     ]
    }
   ],
   "source": [
    "mithai.insert(1, 'Raj bhog') # It will add raj bhog at the index no. of jalebi by using insert\n",
    "print(mithai)"
   ]
  },
  {
   "cell_type": "code",
   "execution_count": 11,
   "id": "0031e94f",
   "metadata": {},
   "outputs": [
    {
     "name": "stdout",
     "output_type": "stream",
     "text": [
      "['Halva', 'Raj bhog', 'Jalebi', 'Rasmalai', 'Kulfi', 'Gulab Jamun', 'Peda', ['Laddu'], 'Peda']\n"
     ]
    }
   ],
   "source": [
    "mithai[7]= ['Laddu']\n",
    "print(mithai)"
   ]
  },
  {
   "cell_type": "code",
   "execution_count": null,
   "id": "a49fe3d2",
   "metadata": {},
   "outputs": [
    {
     "name": "stdout",
     "output_type": "stream",
     "text": [
      "['Halva', 'Raj bhog', 'Jalebi', 'Rasmalai', 'Kulfi', 'Gulab Jamun', 'Peda', 'laddu', 'Peda']\n"
     ]
    }
   ],
   "source": [
    "mithai[7]='laddu' # this method will replace index no. 7 to laddu as a new term\n",
    "print(mithai)"
   ]
  },
  {
   "cell_type": "code",
   "execution_count": 13,
   "id": "fca1fe87",
   "metadata": {},
   "outputs": [
    {
     "name": "stdout",
     "output_type": "stream",
     "text": [
      "['Halva', 'Raj bhog', 'Jalebi', 'Rasmalai', 'Kulfi', 'Gulab Jamun', 'Peda', 'laddu', 'Kaju Katli']\n"
     ]
    }
   ],
   "source": [
    "mithai[8]='Kaju Katli'\n",
    "print(mithai)"
   ]
  },
  {
   "cell_type": "code",
   "execution_count": null,
   "id": "3992f13c",
   "metadata": {},
   "outputs": [
    {
     "name": "stdout",
     "output_type": "stream",
     "text": [
      "['Samosa', 'Sev', 'Bhujiya']\n"
     ]
    }
   ],
   "source": [
    "teekha = ['Samosa', 'Sev', 'Bhujiya'] # Creating 2nd list of teedha items\n",
    "print(teekha)"
   ]
  },
  {
   "cell_type": "code",
   "execution_count": null,
   "id": "3f8b9068",
   "metadata": {},
   "outputs": [
    {
     "name": "stdout",
     "output_type": "stream",
     "text": [
      "['Halva', 'Raj bhog', 'Jalebi', 'Rasmalai', 'Kulfi', 'Gulab Jamun', 'Peda', 'laddu', 'Kaju Katli', 'Samosa', 'Sev', 'Bhujiya']\n"
     ]
    }
   ],
   "source": [
    "Mohan_Bhog_Restaurant = mithai+teekha # Adding 2 lists to make it one using '+'\n",
    "print(Mohan_Bhog_Restaurant)"
   ]
  },
  {
   "cell_type": "code",
   "execution_count": null,
   "id": "7ef612da",
   "metadata": {},
   "outputs": [],
   "source": []
  }
 ],
 "metadata": {
  "kernelspec": {
   "display_name": "base",
   "language": "python",
   "name": "python3"
  },
  "language_info": {
   "codemirror_mode": {
    "name": "ipython",
    "version": 3
   },
   "file_extension": ".py",
   "mimetype": "text/x-python",
   "name": "python",
   "nbconvert_exporter": "python",
   "pygments_lexer": "ipython3",
   "version": "3.12.9"
  }
 },
 "nbformat": 4,
 "nbformat_minor": 5
}
