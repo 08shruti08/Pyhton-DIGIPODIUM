{
 "cells": [
  {
   "cell_type": "markdown",
   "id": "e928f26b",
   "metadata": {},
   "source": [
    "# Condition Statement\n"
   ]
  },
  {
   "cell_type": "code",
   "execution_count": 2,
   "id": "196a030b",
   "metadata": {},
   "outputs": [
    {
     "name": "stdout",
     "output_type": "stream",
     "text": [
      "A\n",
      "B\n"
     ]
    }
   ],
   "source": [
    "# IF STATEMENT\n",
    "marks = 85\n",
    "if marks>= 90:\n",
    "    print(\"A+\")\n",
    "if marks>= 80:\n",
    "    print(\"A\")\n",
    "if marks>= 60:\n",
    "    print(\"B\")\n",
    "if marks < 60:\n",
    "    print(\"fail\")\n"
   ]
  },
  {
   "cell_type": "code",
   "execution_count": 3,
   "id": "777c6a77",
   "metadata": {},
   "outputs": [
    {
     "name": "stdout",
     "output_type": "stream",
     "text": [
      "A\n"
     ]
    }
   ],
   "source": [
    "# elif\n",
    "marks = 85\n",
    "if marks>= 90:\n",
    "    print(\"A+\")\n",
    "elif marks>= 80:\n",
    "    print(\"A\")\n",
    "elif marks>= 60:\n",
    "    print(\"B\")\n",
    "elif marks < 60:\n",
    "    print(\"fail\")\n",
    "else:\n",
    "    print(\"Invalid Marks\")"
   ]
  },
  {
   "cell_type": "code",
   "execution_count": 4,
   "id": "3ccfd781",
   "metadata": {},
   "outputs": [
    {
     "name": "stdout",
     "output_type": "stream",
     "text": [
      "eligible to vote\n"
     ]
    }
   ],
   "source": [
    "# if else \n",
    "age = 23\n",
    "if age >= 18: \n",
    "    print(\"eligible to vote\")\n",
    "else:\n",
    "    print(\"Not eligible to vote\")"
   ]
  },
  {
   "cell_type": "markdown",
   "id": "03673586",
   "metadata": {},
   "source": [
    "### Practice Question\n",
    "- Check whether a number is Positive or not\n",
    "- check whether a number is even or odd\n",
    "- check whether two line segements are equal or\n",
    "- check whether a character entered by user is a vowel or not\n",
    "- calculate an area of circle\n",
    "- check whether a triangle is an equilateral or isosceles triangle\n",
    "- calculate the gross salary of an employee where the basic salary is 50,000, HRA is 5% of bs and TDA is 10% of bs"
   ]
  },
  {
   "cell_type": "markdown",
   "id": "804cd619",
   "metadata": {},
   "source": []
  },
  {
   "cell_type": "code",
   "execution_count": 14,
   "id": "c385a1da",
   "metadata": {},
   "outputs": [
    {
     "name": "stdout",
     "output_type": "stream",
     "text": [
      "The number is Positive\n",
      "The number is Negative\n"
     ]
    }
   ],
   "source": [
    "#Check whether a number is Positive or not\n",
    "\n",
    "number = 14\n",
    "if number > 0:\n",
    "    print(\"The number is Positive\")\n",
    "elif number < 0:\n",
    "    print(\"The number is Negative\")\n",
    "else:\n",
    "    print(\"The is Zero\")\n",
    "\n",
    "# OR - if to \"Enter a number\"\n",
    "\n",
    "number2 = int(input(\"Enter a number: \"))\n",
    "if number2 > 0:\n",
    "    print(\"The number is Positive\")\n",
    "elif number2 < 0:\n",
    "    print(\"The number is Negative\")\n",
    "else:\n",
    "    print(\"The is Zero\")\n",
    "\n",
    "\n"
   ]
  },
  {
   "cell_type": "code",
   "execution_count": 20,
   "id": "2480855d",
   "metadata": {},
   "outputs": [
    {
     "name": "stdout",
     "output_type": "stream",
     "text": [
      "The number is Even no.\n"
     ]
    }
   ],
   "source": [
    "#check whether a number is even or odd\n",
    "\n",
    "number = int(input(\"Enter a number: \"))\n",
    "\n",
    "if number % 2 == 0:\n",
    "    print(\"The number is Even no.\")\n",
    "else:\n",
    "    print(\"The number is Odd no.\")\n"
   ]
  },
  {
   "cell_type": "code",
   "execution_count": 26,
   "id": "929d371f",
   "metadata": {},
   "outputs": [
    {
     "name": "stdout",
     "output_type": "stream",
     "text": [
      "Line Segments are not equal\n"
     ]
    }
   ],
   "source": [
    "#check whether two line segements are equal or not\n",
    "\n",
    "#line segments defined by their lengths\n",
    "\n",
    "line1 = float(input(\"Enter length of 1st line segment: \"))\n",
    "line2 = float(input(\"Enter length of 2nd line segment: \"))\n",
    "\n",
    "if line1 == line2:\n",
    "    print(\"Line Segments are equal\")\n",
    "else:\n",
    "    print(\"Line Segments are not equal\")\n",
    "\n",
    "\n",
    "\n"
   ]
  },
  {
   "cell_type": "code",
   "execution_count": null,
   "id": "8d53bd0a",
   "metadata": {},
   "outputs": [
    {
     "name": "stdout",
     "output_type": "stream",
     "text": [
      " It is not a vowel\n"
     ]
    }
   ],
   "source": [
    "#check whether a character entered by user is a vowel or not\n",
    "\n",
    "char = input(\" Enter the character: \").lower()\n",
    "\n",
    "if char in 'aeiou' == 1:\n",
    "    print(\" It is a vowel\")\n",
    "else:\n",
    "    print(\" It is not a vowel\")\n",
    "    \n",
    "\n"
   ]
  },
  {
   "cell_type": "code",
   "execution_count": 28,
   "id": "e7732b2e",
   "metadata": {},
   "outputs": [
    {
     "name": "stdout",
     "output_type": "stream",
     "text": [
      "314.1592653589793\n"
     ]
    }
   ],
   "source": [
    "#calculate an area of circle\n",
    "# area of circle = pi * r^2\n",
    "\n",
    "import math\n",
    "r = 10 # Let radius be 10\n",
    "\n",
    "area = math.pi * math.pow(r, 2)\n",
    "print(area)"
   ]
  },
  {
   "cell_type": "code",
   "execution_count": 32,
   "id": "1f8e0e23",
   "metadata": {},
   "outputs": [
    {
     "name": "stdout",
     "output_type": "stream",
     "text": [
      "The Triangle is Isosceles.\n"
     ]
    }
   ],
   "source": [
    "#check whether a triangle is an equilateral(if all 3 sides are equal of the triangle) or isosceles triangle(If any two sides are equal)\n",
    "\n",
    "side1 = float(input(\"First side of a Triangle: \"))\n",
    "side2 = float(input(\"Second side of a Triangle: \"))\n",
    "side3 = float(input(\"Third side of a Triangle: \"))\n",
    "\n",
    "if side1 == side2 == side3:\n",
    "    print(\"The Triangle is Equilateral.\")\n",
    "elif side1 == side2 or side2 == side3 or side1 == side3:\n",
    "    print(\"The Triangle is Isosceles.\")\n",
    "else:\n",
    "    print(\"The Triangle is neither Equilateral nor Isosceles.\")\n"
   ]
  },
  {
   "cell_type": "code",
   "execution_count": 3,
   "id": "aeeb70e2",
   "metadata": {},
   "outputs": [
    {
     "name": "stdout",
     "output_type": "stream",
     "text": [
      "Gross salary: 57500.0\n"
     ]
    }
   ],
   "source": [
    "#calculate the gross salary of an employee where the basic salary is 50,000, HRA is 5% of bs and TDA is 10% of bs\n",
    "\n",
    "bs = 50000\n",
    "hra = 0.05 * bs\n",
    "tda = 0.10 * bs\n",
    "gs = bs + hra + tda\n",
    "\n",
    "print(\"Gross salary:\", gs)"
   ]
  },
  {
   "cell_type": "code",
   "execution_count": 4,
   "id": "b359e65f",
   "metadata": {},
   "outputs": [
    {
     "name": "stdout",
     "output_type": "stream",
     "text": [
      "Registration Sucessful\n"
     ]
    }
   ],
   "source": [
    "# Nested if\n",
    "\n",
    "username = input(\"Enter username: \")\n",
    "email = input(\"Enter email: \")\n",
    "password = input(\"Enter password: \")\n",
    "cpassword = input(\"Emter confirm password: \")\n",
    "if len(username)>=5 and len(username)<= 15:\n",
    "    if len(email)>=10 and '@' in email:\n",
    "        if len(password)>=8 and password != username:\n",
    "            if password == cpassword:\n",
    "                print(\"Registration Sucessful\")\n",
    "            else:\n",
    "                print(\"Password and confirm password do not match\")\n",
    "        else:\n",
    "            print(\"Invalid password\")\n",
    "    else:\n",
    "        print(\"Invalid email\")\n",
    "else:\n",
    "    print(\"Invalis username\")\n"
   ]
  },
  {
   "cell_type": "markdown",
   "id": "63348082",
   "metadata": {},
   "source": [
    "## PPT Questions"
   ]
  },
  {
   "cell_type": "code",
   "execution_count": 6,
   "id": "c3f6a822",
   "metadata": {},
   "outputs": [
    {
     "name": "stdout",
     "output_type": "stream",
     "text": [
      "helloworld\n"
     ]
    }
   ],
   "source": [
    "x = \"hello\"\n",
    "y = \"world\"\n",
    "z = x + y\n",
    "print(z)\n"
   ]
  },
  {
   "cell_type": "code",
   "execution_count": 12,
   "id": "bc1a4046",
   "metadata": {},
   "outputs": [
    {
     "name": "stdout",
     "output_type": "stream",
     "text": [
      "90\n"
     ]
    }
   ],
   "source": [
    "# Q4\n",
    "\n",
    "user = input(\"Enter a number: \")\n",
    "print(user)"
   ]
  },
  {
   "cell_type": "code",
   "execution_count": 8,
   "id": "8db2528a",
   "metadata": {},
   "outputs": [
    {
     "name": "stdout",
     "output_type": "stream",
     "text": [
      "24389\n"
     ]
    }
   ],
   "source": [
    "# Program to FIND CUBE OF 29\n",
    "\n",
    "number = 29\n",
    "cube = number ** 3\n",
    "print(cube)\n",
    "\n"
   ]
  },
  {
   "cell_type": "code",
   "execution_count": 7,
   "id": "990ecc4a",
   "metadata": {},
   "outputs": [
    {
     "data": {
      "text/plain": [
       "int"
      ]
     },
     "execution_count": 7,
     "metadata": {},
     "output_type": "execute_result"
    }
   ],
   "source": [
    "# Q5 \n",
    "a = int(input(\"Enter a number: \"))\n",
    "type(a)"
   ]
  },
  {
   "cell_type": "code",
   "execution_count": 9,
   "id": "e88a61d2",
   "metadata": {},
   "outputs": [
    {
     "name": "stdout",
     "output_type": "stream",
     "text": [
      "<class 'float'>\n"
     ]
    }
   ],
   "source": [
    "# Check data type of variable\n",
    "\n",
    "a= 4.5\n",
    "print(type(a))"
   ]
  }
 ],
 "metadata": {
  "kernelspec": {
   "display_name": "base",
   "language": "python",
   "name": "python3"
  },
  "language_info": {
   "codemirror_mode": {
    "name": "ipython",
    "version": 3
   },
   "file_extension": ".py",
   "mimetype": "text/x-python",
   "name": "python",
   "nbconvert_exporter": "python",
   "pygments_lexer": "ipython3",
   "version": "3.12.9"
  }
 },
 "nbformat": 4,
 "nbformat_minor": 5
}
