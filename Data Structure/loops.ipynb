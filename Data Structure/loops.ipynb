{
 "cells": [
  {
   "cell_type": "markdown",
   "id": "2f36e142",
   "metadata": {},
   "source": [
    "# Loops - For, While"
   ]
  },
  {
   "cell_type": "code",
   "execution_count": 5,
   "id": "31225cfe",
   "metadata": {},
   "outputs": [
    {
     "name": "stdout",
     "output_type": "stream",
     "text": [
      "Apple\n",
      "Banana\n",
      "Cherry\n",
      "Grapes\n",
      "Orange\n"
     ]
    }
   ],
   "source": [
    "# For Loop\n",
    "\n",
    "fruits = ['Apple', 'Banana', 'Cherry', 'Grapes', 'Orange']\n",
    "for x in fruits:\n",
    "    print(x)"
   ]
  },
  {
   "cell_type": "code",
   "execution_count": null,
   "id": "c1bc5983",
   "metadata": {},
   "outputs": [
    {
     "name": "stdout",
     "output_type": "stream",
     "text": [
      "0\n",
      "1\n",
      "2\n",
      "3\n",
      "4\n"
     ]
    }
   ],
   "source": [
    "for x in range(5): #it fetch as (0 to 4)\n",
    "    print(x)"
   ]
  },
  {
   "cell_type": "code",
   "execution_count": null,
   "id": "cb01d058",
   "metadata": {},
   "outputs": [
    {
     "name": "stdout",
     "output_type": "stream",
     "text": [
      "1\n",
      "2\n",
      "3\n",
      "4\n",
      "5\n",
      "6\n",
      "7\n",
      "8\n",
      "9\n",
      "10\n",
      "11\n",
      "12\n",
      "13\n",
      "14\n",
      "15\n",
      "16\n",
      "17\n",
      "18\n",
      "19\n",
      "20\n"
     ]
    }
   ],
   "source": [
    "for x in range(1,21): #if want number (1 to 20) then take 21 bcoz it fetch as (-1)\n",
    "    print(x)"
   ]
  },
  {
   "cell_type": "code",
   "execution_count": 7,
   "id": "08776bec",
   "metadata": {},
   "outputs": [
    {
     "name": "stdout",
     "output_type": "stream",
     "text": [
      "1\n",
      "3\n",
      "5\n",
      "7\n",
      "9\n",
      "11\n",
      "13\n",
      "15\n",
      "17\n",
      "19\n"
     ]
    }
   ],
   "source": [
    "for x in range(1,21,2):\n",
    "    print(x)"
   ]
  },
  {
   "cell_type": "code",
   "execution_count": 22,
   "id": "c3f77094",
   "metadata": {},
   "outputs": [
    {
     "name": "stdout",
     "output_type": "stream",
     "text": [
      "1 Shruti\n",
      "2 Shruti\n",
      "3 Shruti\n",
      "4 Shruti\n",
      "5 Shruti\n",
      "6 Shruti\n",
      "7 Shruti\n",
      "8 Shruti\n",
      "9 Shruti\n",
      "10 Shruti\n"
     ]
    }
   ],
   "source": [
    "# print your name 10 times\n",
    "\n",
    "for x in range(1, 11):\n",
    "    print(x,\"Shruti\")"
   ]
  },
  {
   "cell_type": "code",
   "execution_count": 23,
   "id": "324d46bf",
   "metadata": {},
   "outputs": [
    {
     "name": "stdout",
     "output_type": "stream",
     "text": [
      "0\n",
      "1\n",
      "2\n",
      "3\n",
      "4\n",
      "5\n"
     ]
    }
   ],
   "source": [
    "# While loop\n",
    "\n",
    "x = 0\n",
    "while x<= 5:\n",
    "    print(x)\n",
    "    x+=1\n",
    "\n"
   ]
  },
  {
   "cell_type": "code",
   "execution_count": 11,
   "id": "07bd550f",
   "metadata": {},
   "outputs": [
    {
     "name": "stdout",
     "output_type": "stream",
     "text": [
      "2\n",
      "4\n",
      "6\n",
      "8\n",
      "10\n",
      "12\n",
      "14\n",
      "16\n",
      "18\n",
      "20\n"
     ]
    }
   ],
   "source": [
    "# Print Even numbers using loop statement\n",
    "\n",
    "for x in range(2, 21, 2):\n",
    "    print(x)\n",
    "\n"
   ]
  },
  {
   "cell_type": "code",
   "execution_count": null,
   "id": "a3b33c64",
   "metadata": {},
   "outputs": [
    {
     "name": "stdout",
     "output_type": "stream",
     "text": [
      "1\n",
      "3\n",
      "5\n",
      "7\n",
      "9\n",
      "11\n",
      "13\n",
      "15\n",
      "17\n",
      "19\n"
     ]
    }
   ],
   "source": [
    "# Print Odd Number with Condiition statement\n",
    "\n",
    "for x in range(1, 21):\n",
    "    if x%2 != 0:\n",
    "        print(x)\n"
   ]
  },
  {
   "cell_type": "markdown",
   "id": "c5946a5f",
   "metadata": {},
   "source": [
    "## Break and Continue"
   ]
  },
  {
   "cell_type": "code",
   "execution_count": 15,
   "id": "c9e09963",
   "metadata": {},
   "outputs": [
    {
     "name": "stdout",
     "output_type": "stream",
     "text": [
      "Apple\n",
      "Banana\n",
      "Cherry\n",
      "Grapes\n",
      "Mango\n"
     ]
    }
   ],
   "source": [
    "fruits = [\"Apple\", \"Banana\", \"Cherry\", \"Grapes\", \"Mango\", \"Ladyfinger\", 'Kiwi']\n",
    "for i in fruits:\n",
    "    if i == \"Ladyfinger\":\n",
    "        break\n",
    "    print(i)"
   ]
  },
  {
   "cell_type": "code",
   "execution_count": 16,
   "id": "9eabc771",
   "metadata": {},
   "outputs": [
    {
     "name": "stdout",
     "output_type": "stream",
     "text": [
      "Apple\n",
      "Banana\n",
      "Cherry\n",
      "Grapes\n",
      "Mango\n",
      "Kiwi\n"
     ]
    }
   ],
   "source": [
    "fruits = [\"Apple\", \"Banana\", \"Cherry\", \"Grapes\", \"Mango\", \"Ladyfinger\", 'Kiwi']\n",
    "for i in fruits:\n",
    "    if i == \"Ladyfinger\":\n",
    "        continue\n",
    "    print(i)"
   ]
  },
  {
   "cell_type": "markdown",
   "id": "e89af12c",
   "metadata": {},
   "source": [
    "## Practice Questions :\n",
    "\n",
    "- Write a program to print numbers from 1 to 10 using a for loop.\n",
    "- Write a program to print the multiplication table of a given number using a while loop.\n",
    "- Write a program to find the sum of all even numbers between 1 and 100 using a for loop.\n",
    "- Write a program to check if a given number is prime or not using a while loop.\n",
    "- Write a program to calculate the factorial of a number using a for loop.\n",
    "- Write a program to print the Fibonacci series up to a given limit using a for loop.\n",
    "- Write a program to find the largest element in an array using a for loop.\n",
    "- Write a program to reverse a given string using a while loop.\n",
    "- Write a program to print the ASCII values of all uppercase letters using a for loop.\n",
    "- Write a program to check if a given string is a palindrome using a for loop.\n",
    "- Write a program to calculate the average of a list of numbers using a for loop.\n",
    "- Write a program to find the smallest element in an array using a while loop.\n",
    "- Write a program to calculate the sum of digits of a number using a for loop.\n",
    "- Write a program to check if a given list of years has a leap year using a while loop.\n",
    "- Write a program to print the multiplication table of numbers from 1 to 5 using a for loop.\n",
    "- Write a program to find the factorial of a number using a for loop.\n",
    "- Write a program to count the number of vowels in a given string using a for loop.\n",
    "- Write a program to find the largest and smallest elements in an array using a for loop.\n",
    "- Write a program to reverse the order of words in a sentence using a while loop."
   ]
  },
  {
   "cell_type": "code",
   "execution_count": 4,
   "id": "d6872572",
   "metadata": {},
   "outputs": [
    {
     "name": "stdout",
     "output_type": "stream",
     "text": [
      "1\n",
      "2\n",
      "3\n",
      "4\n",
      "5\n",
      "6\n",
      "7\n",
      "8\n",
      "9\n",
      "10\n"
     ]
    }
   ],
   "source": [
    "# Write a program to print numbers from 1 to 10 using a for loop.\n",
    "\n",
    "for x in range(1,11):\n",
    "    print(x)"
   ]
  },
  {
   "cell_type": "code",
   "execution_count": null,
   "id": "c1620bbb",
   "metadata": {},
   "outputs": [
    {
     "name": "stdout",
     "output_type": "stream",
     "text": [
      "8\n",
      "16\n",
      "24\n",
      "32\n",
      "40\n",
      "48\n",
      "56\n",
      "64\n",
      "72\n",
      "80\n"
     ]
    }
   ],
   "source": [
    "# Write a program to print the multiplication table of a given number using a while loop.\n",
    "\n",
    "num = int(input(\"enter a number: \"))\n",
    "x=1\n",
    "while x<=10:\n",
    "    print(num*x)\n",
    "    x+=1"
   ]
  },
  {
   "cell_type": "code",
   "execution_count": null,
   "id": "3e2fa90a",
   "metadata": {},
   "outputs": [
    {
     "name": "stdout",
     "output_type": "stream",
     "text": [
      "total: 0\n",
      "total: 2\n",
      "total: 6\n",
      "total: 12\n",
      "total: 20\n",
      "total: 30\n",
      "total: 42\n",
      "total: 56\n",
      "total: 72\n",
      "total: 90\n",
      "total: 110\n",
      "total: 132\n",
      "total: 156\n",
      "total: 182\n",
      "total: 210\n",
      "total: 240\n",
      "total: 272\n",
      "total: 306\n",
      "total: 342\n",
      "total: 380\n",
      "total: 420\n",
      "total: 462\n",
      "total: 506\n",
      "total: 552\n",
      "total: 600\n",
      "total: 650\n",
      "total: 702\n",
      "total: 756\n",
      "total: 812\n",
      "total: 870\n",
      "total: 930\n",
      "total: 992\n",
      "total: 1056\n",
      "total: 1122\n",
      "total: 1190\n",
      "total: 1260\n",
      "total: 1332\n",
      "total: 1406\n",
      "total: 1482\n",
      "total: 1560\n",
      "total: 1640\n",
      "total: 1722\n",
      "total: 1806\n",
      "total: 1892\n",
      "total: 1980\n",
      "total: 2070\n",
      "total: 2162\n",
      "total: 2256\n",
      "total: 2352\n",
      "total: 2450\n"
     ]
    }
   ],
   "source": [
    "# Write a program to find the sum of all even numbers between 1 and 100 using a for loop.\n",
    "\n",
    "sum = 0\n",
    "for x in range(2, 101, 2):\n",
    "    print(\"total:\", sum)\n",
    "    sum += x  "
   ]
  },
  {
   "cell_type": "code",
   "execution_count": null,
   "id": "fcf56f69",
   "metadata": {},
   "outputs": [],
   "source": [
    "# Write a program to check if a given number is prime or not using a while loop."
   ]
  },
  {
   "cell_type": "code",
   "execution_count": null,
   "id": "a6917da3",
   "metadata": {},
   "outputs": [],
   "source": [
    "# Write a program to print the Fibonacci series up to a given limit using a for loop."
   ]
  },
  {
   "cell_type": "code",
   "execution_count": null,
   "id": "de51a78d",
   "metadata": {},
   "outputs": [
    {
     "name": "stdout",
     "output_type": "stream",
     "text": [
      "Largest Element: 21\n"
     ]
    }
   ],
   "source": [
    "# Write a program to find the largest element in an array using a for loop.\n",
    "\n",
    "arr = [3,4,7,9,12,21]\n",
    "max_num = arr[0]\n",
    "for num in arr:\n",
    "    if max_num < num:\n",
    "        max_num = num\n",
    "print(\"Largest Element:\", max_num)"
   ]
  },
  {
   "cell_type": "code",
   "execution_count": null,
   "id": "cbaa37ca",
   "metadata": {},
   "outputs": [],
   "source": [
    "# Write a program to reverse a given string using a while loop."
   ]
  },
  {
   "cell_type": "code",
   "execution_count": null,
   "id": "1226a81a",
   "metadata": {},
   "outputs": [
    {
     "name": "stdout",
     "output_type": "stream",
     "text": [
      "65\n",
      "66\n",
      "67\n",
      "68\n",
      "69\n",
      "70\n",
      "71\n",
      "72\n",
      "73\n",
      "74\n",
      "75\n",
      "76\n",
      "77\n",
      "78\n",
      "79\n",
      "80\n",
      "81\n",
      "82\n",
      "83\n",
      "84\n",
      "85\n",
      "86\n",
      "87\n",
      "88\n",
      "89\n",
      "90\n"
     ]
    }
   ],
   "source": [
    "# Write a program to print the ASCII values of all uppercase letters using a for loop.\n",
    "\n",
    "for char in range(65, 91):\n",
    "    print(char)"
   ]
  },
  {
   "cell_type": "code",
   "execution_count": null,
   "id": "76a61543",
   "metadata": {},
   "outputs": [],
   "source": [
    "# Write a program to check if a given string is a palindrome using a for loop."
   ]
  },
  {
   "cell_type": "code",
   "execution_count": null,
   "id": "88471dc6",
   "metadata": {},
   "outputs": [
    {
     "name": "stdout",
     "output_type": "stream",
     "text": [
      "Average:  14.0\n"
     ]
    }
   ],
   "source": [
    "# Write a program to calculate the average of a list of numbers using a for loop.\n",
    "\n",
    "List = [10, 11, 12, 15, 18, 9, 23]\n",
    "total = 0\n",
    "for num in List:\n",
    "    total += num\n",
    "    average = total/len(List)\n",
    "print(\"Average: \", average)"
   ]
  },
  {
   "cell_type": "code",
   "execution_count": null,
   "id": "f9f28277",
   "metadata": {},
   "outputs": [
    {
     "name": "stdout",
     "output_type": "stream",
     "text": [
      "Smallest Element: 3\n"
     ]
    }
   ],
   "source": [
    "# Write a program to find the smallest element in an array using a while loop.\n",
    "\n",
    "arr = [3,4,7,9,12,21]\n",
    "min_num = arr[0]\n",
    "for num in arr:\n",
    "    if min_num > num:\n",
    "        min_num = num\n",
    "print(\"Smallest Element:\", min_num)"
   ]
  },
  {
   "cell_type": "code",
   "execution_count": null,
   "id": "34f0c237",
   "metadata": {},
   "outputs": [
    {
     "name": "stdout",
     "output_type": "stream",
     "text": [
      "Total:  [2, 60, 14, 42, 16, 30, 10, 70, 80]\n"
     ]
    }
   ],
   "source": [
    "# Write a program to calculate the sum of digits of a number using a for loop.\n",
    "\n",
    "Num = [2, 60, 14, 42, 16, 30, 10, 70, 80]\n",
    "sum = 0\n",
    "for sum in Num:\n",
    "    sum = num+1\n",
    "print(\"Total: \", Num)"
   ]
  },
  {
   "cell_type": "code",
   "execution_count": null,
   "id": "9f51ed6a",
   "metadata": {},
   "outputs": [],
   "source": [
    "# Write a program to check if a given list of years has a leap year using a while loop."
   ]
  },
  {
   "cell_type": "code",
   "execution_count": null,
   "id": "23c84ea8",
   "metadata": {},
   "outputs": [
    {
     "name": "stdout",
     "output_type": "stream",
     "text": [
      "6\n",
      "12\n",
      "18\n",
      "24\n",
      "30\n"
     ]
    }
   ],
   "source": [
    "# Write a program to print the multiplication table of numbers from 1 to 5 using a for loop.\n",
    "\n",
    "num = int(input(\"enter a number: \"))\n",
    "x=1\n",
    "while x<=5:\n",
    "    print(num*x)\n",
    "    x+=1"
   ]
  },
  {
   "cell_type": "code",
   "execution_count": null,
   "id": "45016f96",
   "metadata": {},
   "outputs": [
    {
     "name": "stdout",
     "output_type": "stream",
     "text": [
      "1\n",
      "2\n",
      "6\n",
      "24\n"
     ]
    }
   ],
   "source": [
    "# Write a program to find the factorial of a number using a for loop.\n",
    "\n",
    "num = int(input(\"Enter a Number: \"))\n",
    "fact =1\n",
    "for x in range (1, num+1):\n",
    "    fact *= x\n",
    "    print(fact)\n"
   ]
  },
  {
   "cell_type": "code",
   "execution_count": null,
   "id": "ee1083cb",
   "metadata": {},
   "outputs": [],
   "source": [
    "# Write a program to count the number of vowels in a given string using a for loop.\n",
    "\n"
   ]
  },
  {
   "cell_type": "code",
   "execution_count": null,
   "id": "51ff0227",
   "metadata": {},
   "outputs": [
    {
     "name": "stdout",
     "output_type": "stream",
     "text": [
      "Smallest Element: 3\n",
      "Largest Element: 21\n"
     ]
    }
   ],
   "source": [
    "# Write a program to find the largest and smallest elements in an array using a for loop.\n",
    "\n",
    "arr = [3,4,7,9,12,21]\n",
    "max_num = min_num = arr[0]\n",
    "\n",
    "for num in arr:\n",
    "    if max_num < num:\n",
    "        max_num = num\n",
    "    if min_num > num:\n",
    "        min_num = num\n",
    "print(\"Smallest Element:\", min_num)\n",
    "print(\"Largest Element:\", max_num)"
   ]
  },
  {
   "cell_type": "code",
   "execution_count": null,
   "id": "25091b16",
   "metadata": {},
   "outputs": [],
   "source": [
    "# Write a program to reverse the order of words in a sentence using a while loop."
   ]
  }
 ],
 "metadata": {
  "kernelspec": {
   "display_name": "base",
   "language": "python",
   "name": "python3"
  },
  "language_info": {
   "codemirror_mode": {
    "name": "ipython",
    "version": 3
   },
   "file_extension": ".py",
   "mimetype": "text/x-python",
   "name": "python",
   "nbconvert_exporter": "python",
   "pygments_lexer": "ipython3",
   "version": "3.12.9"
  }
 },
 "nbformat": 4,
 "nbformat_minor": 5
}
