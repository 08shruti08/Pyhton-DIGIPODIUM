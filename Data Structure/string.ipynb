{
 "cells": [
  {
   "cell_type": "markdown",
   "id": "ec08e59b",
   "metadata": {},
   "source": [
    "# String in List"
   ]
  },
  {
   "cell_type": "code",
   "execution_count": 2,
   "id": "dcc867cc",
   "metadata": {},
   "outputs": [
    {
     "name": "stdout",
     "output_type": "stream",
     "text": [
      "Shruti\n",
      "Shruti\n",
      "Shruti\n",
      "Shruti\n",
      "Shruti\n",
      "Shruti\n"
     ]
    }
   ],
   "source": [
    "for x in range(6):\n",
    "    print(\"Shruti\")"
   ]
  },
  {
   "cell_type": "code",
   "execution_count": 3,
   "id": "4a37d46f",
   "metadata": {},
   "outputs": [
    {
     "name": "stdout",
     "output_type": "stream",
     "text": [
      "S\n",
      "h\n",
      "r\n",
      "u\n",
      "t\n",
      "i\n"
     ]
    }
   ],
   "source": [
    "name = \"Shruti\"\n",
    "for i in name:\n",
    "    print(i)"
   ]
  },
  {
   "cell_type": "code",
   "execution_count": null,
   "id": "cc7f0f02",
   "metadata": {},
   "outputs": [
    {
     "name": "stdout",
     "output_type": "stream",
     "text": [
      "S h r u t i "
     ]
    }
   ],
   "source": [
    "name = \"Shruti\"\n",
    "for i in name:\n",
    "    print(i, end=\" \") # use {,end=\" \" } to print horizontally"
   ]
  },
  {
   "cell_type": "code",
   "execution_count": null,
   "id": "b85ea1eb",
   "metadata": {},
   "outputs": [
    {
     "data": {
      "text/plain": [
       "('h', 'r')"
      ]
     },
     "execution_count": 5,
     "metadata": {},
     "output_type": "execute_result"
    }
   ],
   "source": [
    "# to print the letter of any name\n",
    "\n",
    "name[1], name[2]"
   ]
  },
  {
   "cell_type": "code",
   "execution_count": 12,
   "id": "e0f62ab8",
   "metadata": {},
   "outputs": [
    {
     "data": {
      "text/plain": [
       "('Shr', 'Shruti', 'Srt', 'iturhS', 'urh')"
      ]
     },
     "execution_count": 12,
     "metadata": {},
     "output_type": "execute_result"
    }
   ],
   "source": [
    "# to print first 5 letters of the name\n",
    "\n",
    "name[0:3], name[0:], name[0:5:2], name[: : -1], name[-3:0:-1]\n"
   ]
  },
  {
   "cell_type": "code",
   "execution_count": 1,
   "id": "dd0646af",
   "metadata": {},
   "outputs": [
    {
     "name": "stdout",
     "output_type": "stream",
     "text": [
      "[1, 1, 3, 4, 5, 9]\n"
     ]
    }
   ],
   "source": [
    "nums = [3, 1, 4, 1, 5, 9]\n",
    "nums.sort()\n",
    "print(nums)"
   ]
  },
  {
   "cell_type": "markdown",
   "id": "64ba50e0",
   "metadata": {},
   "source": [
    "### 1. Create a string and print it."
   ]
  },
  {
   "cell_type": "code",
   "execution_count": 5,
   "id": "f944e7cf",
   "metadata": {},
   "outputs": [
    {
     "name": "stdout",
     "output_type": "stream",
     "text": [
      "Prakhar\n"
     ]
    }
   ],
   "source": [
    "name = \"Prakhar\"\n",
    "print(name)"
   ]
  },
  {
   "cell_type": "markdown",
   "id": "22cb5f97",
   "metadata": {},
   "source": [
    "### 2. Take a string input and print it's length."
   ]
  },
  {
   "cell_type": "code",
   "execution_count": 6,
   "id": "53745110",
   "metadata": {},
   "outputs": [
    {
     "name": "stdout",
     "output_type": "stream",
     "text": [
      "7\n"
     ]
    }
   ],
   "source": [
    "print(len(name))"
   ]
  },
  {
   "cell_type": "markdown",
   "id": "8f59a65a",
   "metadata": {},
   "source": [
    "### 3. Print the last word of 'Python is Great' the string using slices."
   ]
  },
  {
   "cell_type": "code",
   "execution_count": 10,
   "id": "98ec90a1",
   "metadata": {},
   "outputs": [
    {
     "name": "stdout",
     "output_type": "stream",
     "text": [
      " Great\n"
     ]
    }
   ],
   "source": [
    "sentence = \"Python is Great\"\n",
    "print(sentence[9:])"
   ]
  },
  {
   "cell_type": "markdown",
   "id": "7362cf1e",
   "metadata": {},
   "source": [
    "### 4. Print the each word in different line of string \"python is everywhere\"."
   ]
  },
  {
   "cell_type": "code",
   "execution_count": 16,
   "id": "b1a1837c",
   "metadata": {},
   "outputs": [
    {
     "name": "stdout",
     "output_type": "stream",
     "text": [
      "P\n",
      "y\n",
      "t\n",
      "h\n",
      "o\n",
      "n\n",
      " \n",
      "i\n",
      "s\n",
      " \n",
      "e\n",
      "v\n",
      "e\n",
      "r\n",
      "y\n",
      "w\n",
      "h\n",
      "e\n",
      "r\n",
      "e\n"
     ]
    }
   ],
   "source": [
    "Sen = \"Python is everywhere\"\n",
    "for i in Sen:\n",
    "    print(i)"
   ]
  }
 ],
 "metadata": {
  "kernelspec": {
   "display_name": "base",
   "language": "python",
   "name": "python3"
  },
  "language_info": {
   "codemirror_mode": {
    "name": "ipython",
    "version": 3
   },
   "file_extension": ".py",
   "mimetype": "text/x-python",
   "name": "python",
   "nbconvert_exporter": "python",
   "pygments_lexer": "ipython3",
   "version": "3.12.9"
  }
 },
 "nbformat": 4,
 "nbformat_minor": 5
}
