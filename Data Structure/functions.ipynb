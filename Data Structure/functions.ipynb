{
 "cells": [
  {
   "cell_type": "markdown",
   "id": "764a39ac",
   "metadata": {},
   "source": [
    "# Funtions in Python"
   ]
  },
  {
   "cell_type": "code",
   "execution_count": 3,
   "id": "40a339a0",
   "metadata": {},
   "outputs": [
    {
     "name": "stdout",
     "output_type": "stream",
     "text": [
      "Hello Shruti!\n",
      "Welcome to python programming Language\n",
      "Have a Great Day\n"
     ]
    }
   ],
   "source": [
    "# Non Parameterized Function\n",
    "\n",
    "def greet(): #function Declare or Initialisation\n",
    "    print(\"Hello Shruti!\")\n",
    "    print(\"Welcome to python programming Language\")\n",
    "    print(\"Have a Great Day\")\n",
    "\n",
    "greet() #function calling"
   ]
  },
  {
   "cell_type": "code",
   "execution_count": null,
   "id": "f03c7e15",
   "metadata": {},
   "outputs": [
    {
     "name": "stdout",
     "output_type": "stream",
     "text": [
      "Hello Shruti!\n",
      "Welcome to python programming Language\n",
      "Have a Great Day\n"
     ]
    }
   ],
   "source": [
    "greet() #Function Calling"
   ]
  },
  {
   "cell_type": "code",
   "execution_count": null,
   "id": "598a7cea",
   "metadata": {},
   "outputs": [],
   "source": [
    "# Parameterized Function\n",
    "\n",
    "def sum(a, b): #Parameters\n",
    "    print(a+b)"
   ]
  },
  {
   "cell_type": "code",
   "execution_count": 6,
   "id": "dfccb91a",
   "metadata": {},
   "outputs": [
    {
     "name": "stdout",
     "output_type": "stream",
     "text": [
      "30\n"
     ]
    }
   ],
   "source": [
    "sum(10, 20) #Arguments"
   ]
  },
  {
   "cell_type": "code",
   "execution_count": null,
   "id": "4ca7f842",
   "metadata": {},
   "outputs": [
    {
     "name": "stdout",
     "output_type": "stream",
     "text": [
      "23.5\n"
     ]
    }
   ],
   "source": [
    "# non- return function\n",
    "def avg(a,b):\n",
    "    print((a+b)/2)\n",
    "    \n",
    "avg(23, 24)"
   ]
  },
  {
   "cell_type": "code",
   "execution_count": null,
   "id": "77975295",
   "metadata": {},
   "outputs": [
    {
     "name": "stdout",
     "output_type": "stream",
     "text": [
      "23.5\n"
     ]
    }
   ],
   "source": [
    "# Return Function\n",
    "\n",
    "def avg(a,b):\n",
    "    return ((a+b)/2)\n",
    "    \n",
    "avg = avg(23, 24)\n",
    "print(avg)"
   ]
  },
  {
   "cell_type": "code",
   "execution_count": null,
   "id": "2ae63d3a",
   "metadata": {},
   "outputs": [],
   "source": [
    "# print even or odd in return fuction\n",
    "\n",
    "def even_or_odd(n):\n",
    "    return \"even\" if n%2 ==0 else \"odd\""
   ]
  },
  {
   "cell_type": "code",
   "execution_count": 20,
   "id": "a4c845f3",
   "metadata": {},
   "outputs": [
    {
     "name": "stdout",
     "output_type": "stream",
     "text": [
      "even\n"
     ]
    }
   ],
   "source": [
    "result = even_or_odd(12)\n",
    "print (result)"
   ]
  },
  {
   "cell_type": "markdown",
   "id": "b4ee22e5",
   "metadata": {},
   "source": [
    "### Default Parameterized Function"
   ]
  },
  {
   "cell_type": "code",
   "execution_count": null,
   "id": "590b4e8d",
   "metadata": {},
   "outputs": [
    {
     "name": "stdout",
     "output_type": "stream",
     "text": [
      "I am from USA\n",
      "I am from Canada\n",
      "I am from Australia\n",
      "I am from India\n"
     ]
    }
   ],
   "source": [
    "def myCountry(country = \"India\"):\n",
    "    print(\"I am from \" + country)\n",
    "\n",
    "myCountry(\"USA\")\n",
    "myCountry(\"Canada\")\n",
    "myCountry(\"Australia\")\n",
    "myCountry() #Default parameter"
   ]
  },
  {
   "cell_type": "code",
   "execution_count": 30,
   "id": "a3e4a2ad",
   "metadata": {},
   "outputs": [
    {
     "name": "stdout",
     "output_type": "stream",
     "text": [
      "36\n"
     ]
    }
   ],
   "source": [
    "#lambda function\n",
    "\n",
    "square = lambda x: x*x\n",
    "print (square(6))"
   ]
  },
  {
   "cell_type": "code",
   "execution_count": 35,
   "id": "f25f9ecc",
   "metadata": {},
   "outputs": [
    {
     "name": "stdout",
     "output_type": "stream",
     "text": [
      "True\n"
     ]
    }
   ],
   "source": [
    "#prime number\n",
    "def is_prime(n):\n",
    "    if n<2:\n",
    "        return False\n",
    "    for i in range (2, n):\n",
    "        if n % i == 0:\n",
    "            return False\n",
    "    return True\n",
    "    \n",
    "print(is_prime(13))"
   ]
  },
  {
   "cell_type": "markdown",
   "id": "fab0951c",
   "metadata": {},
   "source": [
    "## Build in function"
   ]
  },
  {
   "cell_type": "code",
   "execution_count": 1,
   "id": "baab3260",
   "metadata": {},
   "outputs": [],
   "source": [
    "import math"
   ]
  },
  {
   "cell_type": "code",
   "execution_count": null,
   "id": "55c4ea24",
   "metadata": {},
   "outputs": [
    {
     "name": "stdout",
     "output_type": "stream",
     "text": [
      "4.0\n",
      "120\n",
      "3.141592653589793\n",
      "2.718281828459045\n",
      "3\n",
      "60\n"
     ]
    }
   ],
   "source": [
    "print(math.sqrt(16))\n",
    "print(math.factorial(5))\n",
    "print(math.pi)\n",
    "print(math.e)\n",
    "print(math.gcd(12,15)) #greatest common decision\n",
    "print(math.lcm(12,15)) #Least common Multiple"
   ]
  },
  {
   "cell_type": "code",
   "execution_count": null,
   "id": "96b3e9f1",
   "metadata": {},
   "outputs": [],
   "source": [
    "from random import random, randint, choice, shuffle #liberary"
   ]
  },
  {
   "cell_type": "code",
   "execution_count": 16,
   "id": "51f19038",
   "metadata": {},
   "outputs": [
    {
     "name": "stdout",
     "output_type": "stream",
     "text": [
      "get a random number between 0 and 1: 0.8421917765339414\n",
      "get a random integer between 1 and 10: 3\n",
      "get a choice from a list: 2\n",
      "shuffled names: ['Alice', 'Bob', 'John', 'Jane', 'Doe']\n"
     ]
    }
   ],
   "source": [
    "print('get a random number between 0 and 1:', random())\n",
    "print('get a random integer between 1 and 10:', randint(1,10))\n",
    "print('get a choice from a list:', choice([1,2,3,4,5]))\n",
    "names = ['John', 'Jane', 'Doe', 'Alice', 'Bob']\n",
    "shuffle(names)\n",
    "print('shuffled names:', names)\n"
   ]
  },
  {
   "cell_type": "code",
   "execution_count": 17,
   "id": "9a581d69",
   "metadata": {},
   "outputs": [],
   "source": [
    "from datetime import datetime as dt"
   ]
  },
  {
   "cell_type": "code",
   "execution_count": 20,
   "id": "a14b8896",
   "metadata": {},
   "outputs": [
    {
     "name": "stdout",
     "output_type": "stream",
     "text": [
      "Current Date and Time: 2025-05-31 17:52:12.084731\n",
      "Current Date: 2025-05-31\n",
      "Current Time: 17:52:12.085052\n",
      "Current Year: 2025\n",
      "Current Month: 5\n",
      "Current Day: 31\n",
      "Current Hour: 17\n",
      "Current Minute: 52\n"
     ]
    }
   ],
   "source": [
    "print(\"Current Date and Time:\", dt.now())\n",
    "print(\"Current Date:\", dt.now().date())\n",
    "print(\"Current Time:\", dt.now().time())\n",
    "print(\"Current Year:\", dt.now().year)\n",
    "print(\"Current Month:\", dt.now().month)\n",
    "print(\"Current Day:\", dt.now().day)\n",
    "print(\"Current Hour:\", dt.now().hour)\n",
    "print(\"Current Minute:\", dt.now().minute)"
   ]
  },
  {
   "cell_type": "code",
   "execution_count": null,
   "id": "46b65628",
   "metadata": {},
   "outputs": [
    {
     "name": "stdout",
     "output_type": "stream",
     "text": [
      "Formatted Date: 31:05:25\n",
      "Formatted Date: 31/05/25\n"
     ]
    }
   ],
   "source": [
    "date = dt.strftime(dt.now(), '%d:%m:%y')\n",
    "print('Formatted Date:', date)\n",
    "#0r\n",
    "date = dt.strftime(dt.now(), '%d/%m/%y')\n",
    "print('Formatted Date:', date)"
   ]
  },
  {
   "cell_type": "code",
   "execution_count": 35,
   "id": "179e130b",
   "metadata": {},
   "outputs": [
    {
     "name": "stdout",
     "output_type": "stream",
     "text": [
      "Current Time: 18:06:55\n"
     ]
    }
   ],
   "source": [
    "time = dt.strftime(dt.now(), '%H:%M:%S')\n",
    "print('Current Time:', time)"
   ]
  },
  {
   "cell_type": "code",
   "execution_count": 5,
   "id": "e9d0dc99",
   "metadata": {},
   "outputs": [],
   "source": [
    "import os # operating system"
   ]
  },
  {
   "cell_type": "code",
   "execution_count": 31,
   "id": "19b9e914",
   "metadata": {},
   "outputs": [
    {
     "name": "stdout",
     "output_type": "stream",
     "text": [
      "Current Working Directory: c:\\Users\\ASUS\\OneDrive\\Documents\\Pyhton DIGIPODIUM\\Data Structure\n"
     ]
    }
   ],
   "source": [
    "print('Current Working Directory:', os.getcwd())"
   ]
  },
  {
   "cell_type": "code",
   "execution_count": 32,
   "id": "f73fd39d",
   "metadata": {},
   "outputs": [
    {
     "name": "stdout",
     "output_type": "stream",
     "text": [
      "Files in current Directory: ['base.py', 'conditions.ipynb', 'datatypes.ipynb', 'Dictionary.ipynb', 'functions.ipynb', 'List.ipynb', 'loops.ipynb', 'operators.ipynb', 'sets.ipynb', 'string.ipynb', 'variables.ipynb']\n",
      "11 files found\n"
     ]
    }
   ],
   "source": [
    "files = os.listdir()\n",
    "print('Files in current Directory:', files)\n",
    "print(len(files), 'files found')"
   ]
  },
  {
   "cell_type": "code",
   "execution_count": 44,
   "id": "734f8ffb",
   "metadata": {},
   "outputs": [
    {
     "name": "stdout",
     "output_type": "stream",
     "text": [
      "7 files found\n"
     ]
    }
   ],
   "source": [
    "files = os.listdir(r\"C:\\Users\\ASUS\\OneDrive\\Documents\")\n",
    "print(len(files), 'files found')"
   ]
  },
  {
   "cell_type": "code",
   "execution_count": 6,
   "id": "47916635",
   "metadata": {},
   "outputs": [
    {
     "data": {
      "text/plain": [
       "<generator object walk at 0x0000027DC86ED8B0>"
      ]
     },
     "execution_count": 6,
     "metadata": {},
     "output_type": "execute_result"
    }
   ],
   "source": [
    "os.walk(os.getcwd)"
   ]
  },
  {
   "cell_type": "code",
   "execution_count": 7,
   "id": "5226ca3f",
   "metadata": {},
   "outputs": [
    {
     "name": "stdout",
     "output_type": "stream",
     "text": [
      "Current directory: c:\\Users\\ASUS\\OneDrive\\Documents\\Pyhton DIGIPODIUM\\Data Structure\n",
      "Subdirectory: []\n",
      "Files: ['base.py', 'conditions.ipynb', 'datatypes.ipynb', 'Dictionary.ipynb', 'functions.ipynb', 'List.ipynb', 'loops.ipynb', 'operators.ipynb', 'sets.ipynb', 'string.ipynb', 'variables.ipynb']\n",
      "11 files found in directory\n"
     ]
    }
   ],
   "source": [
    "for root, dirs, files in os.walk(os.getcwd()):\n",
    "    print('Current directory:', root)\n",
    "    print('Subdirectory:', dirs)\n",
    "    print('Files:', files)\n",
    "    print(len(files), \"files found in directory\")"
   ]
  },
  {
   "cell_type": "code",
   "execution_count": 42,
   "id": "798ea8aa",
   "metadata": {},
   "outputs": [
    {
     "name": "stdout",
     "output_type": "stream",
     "text": [
      "File Exists: C:\\Users\\ASUS\\OneDrive\\Desktop\n"
     ]
    }
   ],
   "source": [
    "#files exist or not\n",
    "\n",
    "file = r\"C:\\Users\\ASUS\\OneDrive\\Desktop\"\n",
    "if os.path.exists(file):\n",
    "    print(\"File Exists:\", file)\n",
    "else:\n",
    "     print(\"File does not Exists:\", file)"
   ]
  }
 ],
 "metadata": {
  "kernelspec": {
   "display_name": "base",
   "language": "python",
   "name": "python3"
  },
  "language_info": {
   "codemirror_mode": {
    "name": "ipython",
    "version": 3
   },
   "file_extension": ".py",
   "mimetype": "text/x-python",
   "name": "python",
   "nbconvert_exporter": "python",
   "pygments_lexer": "ipython3",
   "version": "3.12.9"
  }
 },
 "nbformat": 4,
 "nbformat_minor": 5
}
