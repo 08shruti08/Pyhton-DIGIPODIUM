{
 "cells": [
  {
   "cell_type": "markdown",
   "id": "89f4d52c",
   "metadata": {},
   "source": [
    "# Operators"
   ]
  },
  {
   "cell_type": "markdown",
   "id": "e27e6f15",
   "metadata": {},
   "source": [
    "### Arithmatic Operators"
   ]
  },
  {
   "cell_type": "code",
   "execution_count": 29,
   "id": "c7a79e86",
   "metadata": {},
   "outputs": [
    {
     "name": "stdout",
     "output_type": "stream",
     "text": [
      "28\n",
      "-4\n",
      "2\n",
      "156\n"
     ]
    }
   ],
   "source": [
    "a= 12\n",
    "b= 16\n",
    "sum= a+b\n",
    "print(sum)\n",
    "\n",
    "print(a-b)\n",
    "\n",
    "a= 14\n",
    "b= 3\n",
    "modulus= a%b\n",
    "print(modulus)\n",
    "\n",
    "c= 12\n",
    "d= 13\n",
    "multiply= c*d\n",
    "print(multiply)"
   ]
  },
  {
   "cell_type": "markdown",
   "id": "c81d928c",
   "metadata": {},
   "source": [
    "### Assignment Operators"
   ]
  },
  {
   "cell_type": "code",
   "execution_count": 11,
   "id": "5ac23222",
   "metadata": {},
   "outputs": [
    {
     "name": "stdout",
     "output_type": "stream",
     "text": [
      "15\n",
      "4\n",
      "5.0\n"
     ]
    }
   ],
   "source": [
    "a= 7\n",
    "b= 8\n",
    "a+=b\n",
    "print(a)\n",
    "\n",
    "c= 14\n",
    "d= 10\n",
    "c-= d\n",
    "print(c)\n",
    "\n",
    "e=25\n",
    "f=5\n",
    "e/=f\n",
    "print(e)\n"
   ]
  },
  {
   "cell_type": "markdown",
   "id": "c19bcf09",
   "metadata": {},
   "source": [
    "### Comparision Operator"
   ]
  },
  {
   "cell_type": "code",
   "execution_count": null,
   "id": "3da2b0fe",
   "metadata": {},
   "outputs": [
    {
     "name": "stdout",
     "output_type": "stream",
     "text": [
      "False\n",
      "True\n",
      "False\n"
     ]
    }
   ],
   "source": [
    "suman= 12\n",
    "diwakar= 6\n",
    "print(suman==diwakar)\n",
    "\n",
    "a= 76\n",
    "b= 45\n",
    "print(a>=b)\n",
    "\n",
    "print(a<=b)"
   ]
  },
  {
   "cell_type": "markdown",
   "id": "82f9cac5",
   "metadata": {},
   "source": [
    "### Logical Operator"
   ]
  },
  {
   "cell_type": "code",
   "execution_count": null,
   "id": "1bff95f2",
   "metadata": {},
   "outputs": [
    {
     "name": "stdout",
     "output_type": "stream",
     "text": [
      "False\n",
      "True\n"
     ]
    },
    {
     "ename": "NameError",
     "evalue": "name 'printnot' is not defined",
     "output_type": "error",
     "traceback": [
      "\u001b[31m---------------------------------------------------------------------------\u001b[39m",
      "\u001b[31mNameError\u001b[39m                                 Traceback (most recent call last)",
      "\u001b[36mCell\u001b[39m\u001b[36m \u001b[39m\u001b[32mIn[32]\u001b[39m\u001b[32m, line 7\u001b[39m\n\u001b[32m      3\u001b[39m \u001b[38;5;28mprint\u001b[39m(g1>g2 \u001b[38;5;129;01mand\u001b[39;00m g2<g1)\n\u001b[32m      5\u001b[39m \u001b[38;5;28mprint\u001b[39m(g2>g1 \u001b[38;5;129;01mor\u001b[39;00m g1>g2)\n\u001b[32m----> \u001b[39m\u001b[32m7\u001b[39m \u001b[43mprintnot\u001b[49m(g1<g2 \u001b[38;5;129;01mand\u001b[39;00m g2>g1)\n",
      "\u001b[31mNameError\u001b[39m: name 'printnot' is not defined"
     ]
    }
   ],
   "source": [
    "g1 = 12\n",
    "g2 = 14\n",
    "print(g1>g2 and g2<g1)\n",
    "\n",
    "print(g2>g1 or g1>g2)\n",
    "\n",
    "print not(g1<g2 and g2>g1)"
   ]
  },
  {
   "cell_type": "markdown",
   "id": "89f03083",
   "metadata": {},
   "source": [
    "### Bitwise Operator"
   ]
  },
  {
   "cell_type": "code",
   "execution_count": 35,
   "id": "412835bd",
   "metadata": {},
   "outputs": [
    {
     "name": "stdout",
     "output_type": "stream",
     "text": [
      "0\n",
      "15\n",
      "15\n",
      "-11\n"
     ]
    }
   ],
   "source": [
    "a= 10\n",
    "b=5\n",
    "#print bitwise AND operator  \n",
    "print(a&b)\n",
    "\n",
    "#print bitwise OR operator\n",
    "print(a|b)\n",
    "\n",
    "#print bitwise XOR operator\n",
    "print(a^b)\n",
    "\n",
    "#print bitwise NOT operator\n",
    "print(~a)"
   ]
  },
  {
   "cell_type": "markdown",
   "id": "b63f5d26",
   "metadata": {},
   "source": []
  }
 ],
 "metadata": {
  "kernelspec": {
   "display_name": "base",
   "language": "python",
   "name": "python3"
  },
  "language_info": {
   "codemirror_mode": {
    "name": "ipython",
    "version": 3
   },
   "file_extension": ".py",
   "mimetype": "text/x-python",
   "name": "python",
   "nbconvert_exporter": "python",
   "pygments_lexer": "ipython3",
   "version": "3.12.9"
  }
 },
 "nbformat": 4,
 "nbformat_minor": 5
}
